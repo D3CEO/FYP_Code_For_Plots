{
 "cells": [
  {
   "cell_type": "code",
   "execution_count": 10,
   "id": "431da2a8",
   "metadata": {},
   "outputs": [
    {
     "name": "stdout",
     "output_type": "stream",
     "text": [
      "Interval [0.0000, 0.1963]: Average Value = 419.9076\n",
      "Interval [0.1963, 0.3927]: Average Value = 401.6792\n",
      "Interval [0.3927, 0.5890]: Average Value = 367.9974\n",
      "Interval [0.5890, 0.7854]: Average Value = 323.9900\n",
      "Interval [0.7854, 0.9817]: Average Value = 276.3567\n",
      "Interval [0.9817, 1.1781]: Average Value = 232.3493\n",
      "Interval [1.1781, 1.3744]: Average Value = 198.6675\n",
      "Interval [1.3744, 1.5708]: Average Value = 180.4391\n"
     ]
    }
   ],
   "source": [
    "import numpy as np\n",
    "\n",
    "def integral_solution(x, Q0):\n",
    "    return Q0 * (0.8795 * x + 0.18 * np.sin(2 * x))\n",
    "\n",
    "lower_bounds = np.linspace(0, np.pi/2, 9)[:-1]  \n",
    "upper_bounds = np.linspace(0, np.pi/2, 9)[1:]   \n",
    "\n",
    "Q0 = 341.3  \n",
    "\n",
    "integral_values_lower = integral_solution(lower_bounds, Q0)\n",
    "integral_values_upper = integral_solution(upper_bounds, Q0)\n",
    "\n",
    "\n",
    "average_values = (integral_values_upper - integral_values_lower) / (upper_bounds - lower_bounds)\n",
    "\n",
    "for i in range(len(lower_bounds)):\n",
    "    print(f\"Interval [{lower_bounds[i]:.4f}, {upper_bounds[i]:.4f}]: Average Value = {average_values[i]:.4f}\")\n",
    "\n"
   ]
  },
  {
   "cell_type": "code",
   "execution_count": null,
   "id": "e62019e6",
   "metadata": {},
   "outputs": [],
   "source": []
  }
 ],
 "metadata": {
  "kernelspec": {
   "display_name": "Python 3",
   "language": "python",
   "name": "python3"
  },
  "language_info": {
   "codemirror_mode": {
    "name": "ipython",
    "version": 3
   },
   "file_extension": ".py",
   "mimetype": "text/x-python",
   "name": "python",
   "nbconvert_exporter": "python",
   "pygments_lexer": "ipython3",
   "version": "3.8.8"
  }
 },
 "nbformat": 4,
 "nbformat_minor": 5
}
